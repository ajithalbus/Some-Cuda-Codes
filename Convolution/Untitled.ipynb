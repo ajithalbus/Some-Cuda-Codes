{
 "cells": [
  {
   "cell_type": "code",
   "execution_count": 59,
   "metadata": {},
   "outputs": [],
   "source": [
    "import tensorflow as tf"
   ]
  },
  {
   "cell_type": "code",
   "execution_count": 198,
   "metadata": {},
   "outputs": [],
   "source": [
    "import numpy as np\n"
   ]
  },
  {
   "cell_type": "code",
   "execution_count": 498,
   "metadata": {},
   "outputs": [],
   "source": [
    "N=128\n",
    "W=1024\n",
    "D=8\n",
    "T=5\n",
    "OW=W-4"
   ]
  },
  {
   "cell_type": "code",
   "execution_count": 507,
   "metadata": {},
   "outputs": [],
   "source": [
    "res=np.reshape(np.loadtxt('result'),(N,OW,OW))\n",
    "#mat=np.reshape(np.loadtxt('mat'),(1,W,W,D))\n",
    "#tile=np.reshape(np.loadtxt('filter'),(N,T,T,D))"
   ]
  },
  {
   "cell_type": "code",
   "execution_count": 511,
   "metadata": {},
   "outputs": [],
   "source": [
    "tile=np.moveaxis(tile,0,3)\n",
    "res=np.moveaxis(res,0,2)"
   ]
  },
  {
   "cell_type": "code",
   "execution_count": 512,
   "metadata": {},
   "outputs": [],
   "source": [
    "m=tf.constant(value=mat,dtype=tf.float64)\n",
    "r=tf.constant(value=res,dtype=tf.float64)\n",
    "t=tf.constant(value=tile,dtype=tf.float64)"
   ]
  },
  {
   "cell_type": "code",
   "execution_count": 513,
   "metadata": {},
   "outputs": [],
   "source": [
    "o=tf.nn.conv2d(m,t,[1,1,1,1],'VALID')"
   ]
  },
  {
   "cell_type": "code",
   "execution_count": 514,
   "metadata": {},
   "outputs": [],
   "source": [
    "sess=tf.InteractiveSession()\n",
    "tf.global_variables_initializer().run()"
   ]
  },
  {
   "cell_type": "code",
   "execution_count": 515,
   "metadata": {},
   "outputs": [],
   "source": [
    "gt=o.eval()[0]"
   ]
  },
  {
   "cell_type": "code",
   "execution_count": 516,
   "metadata": {},
   "outputs": [
    {
     "ename": "ValueError",
     "evalue": "operands could not be broadcast together with shapes (128,1020,1020) (1020,1020,128) ",
     "output_type": "error",
     "traceback": [
      "\u001b[0;31m\u001b[0m",
      "\u001b[0;31mValueError\u001b[0mTraceback (most recent call last)",
      "\u001b[0;32m<ipython-input-516-16d08f39ff99>\u001b[0m in \u001b[0;36m<module>\u001b[0;34m()\u001b[0m\n\u001b[0;32m----> 1\u001b[0;31m \u001b[0mdif\u001b[0m\u001b[0;34m=\u001b[0m\u001b[0mres\u001b[0m\u001b[0;34m-\u001b[0m\u001b[0mgt\u001b[0m\u001b[0;34m\u001b[0m\u001b[0m\n\u001b[0m",
      "\u001b[0;31mValueError\u001b[0m: operands could not be broadcast together with shapes (128,1020,1020) (1020,1020,128) "
     ]
    }
   ],
   "source": [
    "dif=res-gt"
   ]
  },
  {
   "cell_type": "code",
   "execution_count": null,
   "metadata": {},
   "outputs": [],
   "source": [
    "print np.linalg.norm(dif)"
   ]
  },
  {
   "cell_type": "code",
   "execution_count": 496,
   "metadata": {},
   "outputs": [
    {
     "data": {
      "text/plain": [
       "array([0.])"
      ]
     },
     "execution_count": 496,
     "metadata": {},
     "output_type": "execute_result"
    }
   ],
   "source": [
    "res[0,7]"
   ]
  },
  {
   "cell_type": "code",
   "execution_count": 497,
   "metadata": {},
   "outputs": [
    {
     "data": {
      "text/plain": [
       "[(array([3729.]), array([3729.])),\n",
       " (array([4291.8]), array([4291.8])),\n",
       " (array([4624.2]), array([4624.2])),\n",
       " (array([4803.]), array([4803.])),\n",
       " (array([0.]), array([5058.6])),\n",
       " (array([0.]), array([4981.4])),\n",
       " (array([0.]), array([3419.4])),\n",
       " (array([0.]), array([2343.8])),\n",
       " (array([1165.8]), array([1165.8])),\n",
       " (array([167.]), array([167.])),\n",
       " (array([-1138.3]), array([-1138.3])),\n",
       " (array([-1803.8]), array([-1803.8]))]"
      ]
     },
     "execution_count": 497,
     "metadata": {},
     "output_type": "execute_result"
    }
   ],
   "source": [
    "zip(res[0],gt[0])"
   ]
  },
  {
   "cell_type": "code",
   "execution_count": null,
   "metadata": {},
   "outputs": [],
   "source": []
  }
 ],
 "metadata": {
  "kernelspec": {
   "display_name": "Python 2",
   "language": "python",
   "name": "python2"
  },
  "language_info": {
   "codemirror_mode": {
    "name": "ipython",
    "version": 2
   },
   "file_extension": ".py",
   "mimetype": "text/x-python",
   "name": "python",
   "nbconvert_exporter": "python",
   "pygments_lexer": "ipython2",
   "version": "2.7.12"
  }
 },
 "nbformat": 4,
 "nbformat_minor": 2
}
